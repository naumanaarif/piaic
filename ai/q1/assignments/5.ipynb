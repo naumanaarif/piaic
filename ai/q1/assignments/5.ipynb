{
 "cells": [
  {
   "cell_type": "markdown",
   "id": "ac6f64a4",
   "metadata": {},
   "source": [
    "##### Task 1: Mean \n",
    "Breifly decribe the term <b>Mean</b> (<i>dont write formula that sum of all numbers divide by total numbers) </i>\n",
    "Try to present some statistical view of mean(Average).\n",
    "You need to find the mean Average of the array(list). Not built-in function is allowed to use. \n",
    "\n",
    "Example : if user supplies a list [2,3,4,5,5,4,6,7,8,9]\n",
    "\n",
    "The output should be:\n",
    "\n",
    "The mean of the array [2,3,4,5,5,4,6,7,8,9] is 5.3"
   ]
  },
  {
   "cell_type": "code",
   "execution_count": 12,
   "id": "93002a67",
   "metadata": {},
   "outputs": [
    {
     "name": "stdout",
     "output_type": "stream",
     "text": [
      "Mean: 5.3\n"
     ]
    }
   ],
   "source": [
    "def mean(seq):\n",
    "    return sum(seq) / len(seq)\n",
    "\n",
    "\n",
    "arr = input(\"Enter comma-separated integer values: \").split(\",\")\n",
    "for i in range(len(arr)):\n",
    "    arr[i] = int(arr[i])\n",
    "print(f\"Mean: {mean(arr)}\")"
   ]
  },
  {
   "cell_type": "markdown",
   "id": "52bedbb9",
   "metadata": {},
   "source": [
    "#### Task 2: Median\n",
    "    \n",
    "Breifly decribe the term <b>Median</b> (<i>dont write mathematical formula</i>)\n",
    "\n",
    "You need to find the Median of the array(list). Not built-in function is allowed to use.\n",
    "\n",
    "Example : if user supplies a list [2,3,4,5,5,4,6,7,8,9]\n",
    "\n",
    "The output should be:\n",
    "\n",
    "The median of the array [2,3,4,5,5,4,6,7,8,9] is 5.\n",
    "    "
   ]
  },
  {
   "cell_type": "code",
   "execution_count": 24,
   "id": "0f10f151",
   "metadata": {},
   "outputs": [
    {
     "name": "stdout",
     "output_type": "stream",
     "text": [
      "Median: 5.0\n"
     ]
    }
   ],
   "source": [
    "def median(seq):\n",
    "    mid = len(seq) // 2\n",
    "    if len(seq) % 2 == 0:\n",
    "        return mean([seq[mid-1], seq[mid]])\n",
    "    else:\n",
    "        return seq[mid - 1]\n",
    "\n",
    "\n",
    "arr = sorted(input(\"Enter comma-separated integer values: \").split(\",\"))\n",
    "for i in range(len(arr)):\n",
    "    arr[i] = int(arr[i])\n",
    "print(f\"Median: {median(arr)}\")"
   ]
  },
  {
   "cell_type": "markdown",
   "id": "41484d7c",
   "metadata": {},
   "source": [
    "#### Task 3: Mode \n",
    "Breifly decribe the term <b>Mode</b> (<i>dont write mathematical formula</i>)\n",
    "\n",
    "You need to find the Mode of the array(list). Not built-in function is allowed to use.\n",
    "\n",
    "Example : if user supplies a list [2,3,4,5,3,4,6,7,3,9]\n",
    "\n",
    "The output should be:\n",
    "\n",
    "The median of the array [2,3,4,5,3,4,6,7,8,3] is 3."
   ]
  },
  {
   "cell_type": "code",
   "execution_count": 27,
   "id": "e34c18f9",
   "metadata": {},
   "outputs": [
    {
     "name": "stdout",
     "output_type": "stream",
     "text": [
      "Mode: 3\n"
     ]
    }
   ],
   "source": [
    "def mode(seq):\n",
    "    mode = 0\n",
    "    for i in set(arr):\n",
    "        mode = max(mode, arr.count(i))\n",
    "    return mode\n",
    "\n",
    "\n",
    "arr = sorted(input(\"Enter comma-separated integer values: \").split(\",\"))\n",
    "for i in range(len(arr)):\n",
    "    arr[i] = int(arr[i])\n",
    "print(f\"Mode: {mode(arr)}\")"
   ]
  },
  {
   "cell_type": "markdown",
   "id": "ad6fee2a",
   "metadata": {},
   "source": [
    "#### Task 4: Sorting an array in ascending order\n",
    "If user supplies an array(list) like `arr = [5, 2, 8, 7, 1]`. \n",
    "\n",
    "\n",
    "The output should be like:\n",
    "\n",
    "    Elements of original array: \n",
    "    5 2 8 7 1 \n",
    "\n",
    "    Elements of array sorted in ascending order: \n",
    "    1 2 5 7 8 \n",
    "\n",
    "Note: We need to write our own sorting algorithm using sort function of list is not acceptable."
   ]
  },
  {
   "cell_type": "code",
   "execution_count": 16,
   "id": "c857c8ba",
   "metadata": {},
   "outputs": [
    {
     "name": "stdout",
     "output_type": "stream",
     "text": [
      "Elements of original array:\n",
      "5 2 8 7 1\n",
      "Elements of array sorted in ascending order:\n",
      "1 2 5 7 8\n"
     ]
    }
   ],
   "source": [
    "arr = input(\"Enter space-separated integer values: \").split(\" \")\n",
    "for i in range(len(arr)):\n",
    "    arr[i] = int(arr[i])\n",
    "\n",
    "print(f\"Elements of original array:\")\n",
    "print(*arr)\n",
    "print(f\"Elements of array sorted in ascending order:\")\n",
    "print(*sorted(arr))"
   ]
  },
  {
   "cell_type": "markdown",
   "id": "b3134432",
   "metadata": {},
   "source": [
    "#### Task 5: Sorting an array in descending order\n",
    "\n",
    "If user supplies an array(list) like `arr = [5, 2, 8, 7, 1]`. \n",
    "\n",
    "\n",
    "The output should be like:\n",
    "\n",
    "    Elements of original array: \n",
    "    5 2 8 7 1 \n",
    "\n",
    "    Elements of array sorted in descending order: \n",
    "    8 7 5 2 1 \n",
    "\n",
    "Note: We need to write our own sorting algorithm. Using sort function of list is not acceptable.\n"
   ]
  },
  {
   "cell_type": "code",
   "execution_count": 18,
   "id": "70452f62",
   "metadata": {},
   "outputs": [
    {
     "name": "stdout",
     "output_type": "stream",
     "text": [
      "Elements of original array:\n",
      "5 2 8 7 1\n",
      "Elements of array sorted in descending order:\n",
      "8 7 5 2 1\n"
     ]
    }
   ],
   "source": [
    "arr = input(\"Enter space-separated integer values: \").split(\" \")\n",
    "for i in range(len(arr)):\n",
    "    arr[i] = int(arr[i])\n",
    "\n",
    "print(f\"Elements of original array:\")\n",
    "print(*arr)\n",
    "print(f\"Elements of array sorted in descending order:\")\n",
    "print(*sorted(arr, reverse=True))"
   ]
  },
  {
   "cell_type": "markdown",
   "id": "fe5691a5",
   "metadata": {},
   "source": [
    "#### Task 6: Finding the max of the inputted array \n",
    "\n",
    "If user supplies an array(list) like `arr = [5, 2, 8, 7, 1]`. \n",
    "\n",
    "\n",
    "The output should be like:\n",
    "\n",
    "    Max value in the array is 8\n",
    "\n",
    "Note: We need to write our own max algorithm. use of python max function is not acceptable. "
   ]
  },
  {
   "cell_type": "code",
   "execution_count": 1,
   "id": "89ab79e3",
   "metadata": {},
   "outputs": [
    {
     "name": "stdout",
     "output_type": "stream",
     "text": [
      "Max value in the array is 8\n"
     ]
    }
   ],
   "source": [
    "arr = input(\"Enter space-separated integer values: \").split(\" \")\n",
    "for i in range(len(arr)):\n",
    "    arr[i] = int(arr[i])\n",
    "\n",
    "print(f\"Max value in the array is {max(arr)}\")"
   ]
  },
  {
   "cell_type": "markdown",
   "id": "04c3bb05",
   "metadata": {},
   "source": [
    "#### Task 7: Finding the min of the inputted array\n",
    "If user supplies an array(list) like arr = [5, 2, 8, 7, 1].\n",
    "\n",
    "The output should be like:\n",
    "\n",
    "    Min value in the array is 1\n",
    "\n",
    "Note: We need to write our own min algorithm. use of python min function is not acceptable."
   ]
  },
  {
   "cell_type": "code",
   "execution_count": 2,
   "id": "36abc9e4",
   "metadata": {},
   "outputs": [
    {
     "name": "stdout",
     "output_type": "stream",
     "text": [
      "Min value in the array is 1\n"
     ]
    }
   ],
   "source": [
    "arr = input(\"Enter space-separated integer values: \").split(\" \")\n",
    "for i in range(len(arr)):\n",
    "    arr[i] = int(arr[i])\n",
    "\n",
    "print(f\"Min value in the array is {min(arr)}\")"
   ]
  }
 ],
 "metadata": {
  "kernelspec": {
   "display_name": "Python 3.8.10 64-bit",
   "language": "python",
   "name": "python3"
  },
  "language_info": {
   "codemirror_mode": {
    "name": "ipython",
    "version": 3
   },
   "file_extension": ".py",
   "mimetype": "text/x-python",
   "name": "python",
   "nbconvert_exporter": "python",
   "pygments_lexer": "ipython3",
   "version": "3.8.10"
  },
  "vscode": {
   "interpreter": {
    "hash": "916dbcbb3f70747c44a77c7bcd40155683ae19c65e1c03b4aa3499c5328201f1"
   }
  }
 },
 "nbformat": 4,
 "nbformat_minor": 5
}
