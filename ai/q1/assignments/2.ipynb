{
 "cells": [
  {
   "cell_type": "markdown",
   "id": "f6519aad",
   "metadata": {},
   "source": [
    "# Assignment 2\n",
    "\n",
    "## User input"
   ]
  },
  {
   "cell_type": "markdown",
   "id": "948191fe",
   "metadata": {},
   "source": [
    "1\\. Take a sentence input from user using input function. Count occurence of a particular character/word in the sentence and print the message that the character appear this many times in the sentence.\n",
    "\n",
    "Like if user inputs:\n",
    "```\n",
    "\"My name is Sana. I am an undergraduate student. I am learning Artificial Intellegence in PIAIC\"\n",
    "```\n",
    "\n",
    "Your output should be:\n",
    "```\n",
    "I appears 5 times in your sentence\n",
    "```\n",
    "    \n",
    "Hint: nahi batounga use string methods.  \n",
    "Note: Sana is a boy. His full name is SanaUllah😄"
   ]
  },
  {
   "cell_type": "code",
   "execution_count": 2,
   "id": "982c6dbe",
   "metadata": {},
   "outputs": [
    {
     "name": "stdout",
     "output_type": "stream",
     "text": [
      "'I' appears 5 times in the sentence.\n"
     ]
    }
   ],
   "source": [
    "sentence = input(\"Sentence: \")\n",
    "occurence = sentence.count(\"I\")\n",
    "print(f\"'I' appears {occurence} times in the sentence.\")"
   ]
  },
  {
   "cell_type": "markdown",
   "id": "bf6c3672",
   "metadata": {},
   "source": [
    "2\\. Take a number input from user and print the square of that number. \n",
    "\n",
    "if a user inputs `10` Your output should be like:  \n",
    "    `The square of 10 is 100`  \n",
    "\n",
    "if a user inputs `5` Your output should be like:  \n",
    "    `The square of 5 is 25`  \n",
    "    \n",
    "if a user inputs `2` Your output should be like:  \n",
    "    `The square of 2 is 4`  "
   ]
  },
  {
   "cell_type": "code",
   "execution_count": 3,
   "id": "09547997",
   "metadata": {},
   "outputs": [
    {
     "name": "stdout",
     "output_type": "stream",
     "text": [
      "100\n"
     ]
    }
   ],
   "source": [
    "n = int(input(\"Enter a number: \"))\n",
    "print(n * n)"
   ]
  },
  {
   "cell_type": "markdown",
   "id": "0da0f529",
   "metadata": {},
   "source": [
    "3\\. Take two inputs from user using two input functions add these two numbers and print the result.\n",
    "\n",
    "For example if a user inputs `10` in first input, `20` in second input then your output must be like:  \n",
    "`The sum of 10 and 20 is 30`\n",
    "\n",
    "For example if a user inputs `12` in first input, `30` in second input then your output must be like:  \n",
    "`The sum of 12 and 30 is 42`\n",
    "\n",
    "For example if a user inputs `100` in first input, `200` in second input then your out put must be like:  \n",
    "`The sum of 100 and 200 is 300`"
   ]
  },
  {
   "cell_type": "code",
   "execution_count": 5,
   "id": "2a853399",
   "metadata": {},
   "outputs": [
    {
     "name": "stdout",
     "output_type": "stream",
     "text": [
      "30\n"
     ]
    }
   ],
   "source": [
    "x = int(input(\"x: \"))\n",
    "y = int(input(\"y: \"))\n",
    "print(x + y)"
   ]
  },
  {
   "cell_type": "markdown",
   "id": "f957eb50",
   "metadata": {},
   "source": [
    "4\\. Format a string to display a card like string:\n",
    "    \n",
    "            Presidential Initiative for AI & Computing\n",
    "                          ID CARD\n",
    "            Student Name   : Asad Ali\n",
    "            Father Name    : Amjad Ali\n",
    "            Date of Birth  : 01-01-2000\n",
    "            Course Enrolled: Artificial Intelligence\n",
    "            Batch          : 2022\n",
    "            Day            : Saturday \n",
    "            Centre         : Sir Syed University of Engg and Technology\n",
    "                \n",
    "Note: all the field values must be taken as user inputs and stored in variable"
   ]
  },
  {
   "cell_type": "code",
   "execution_count": 6,
   "id": "f7480306",
   "metadata": {},
   "outputs": [
    {
     "name": "stdout",
     "output_type": "stream",
     "text": [
      "\n",
      "            Student Name   : Nauman Arif\n",
      "            Father Name    : Muhammad Arif\n",
      "            Date of Birth  : 2002\n",
      "            Course Enrolled: AI\n",
      "            Batch          : 2022\n",
      "            Day            : Saturday\n",
      "            Centre         : SSUET \n",
      "\n"
     ]
    }
   ],
   "source": [
    "student_name = input(\"Student's name: \")\n",
    "father_name = input(\"Father's name: \")\n",
    "date_of_birth = input(\"Date of Birth: \")\n",
    "course = input(\"Course Enrolled: \")\n",
    "batch_year = int(input(\"Batch Year: \"))\n",
    "day = input(\"Day: \")\n",
    "centre = input(\"Centre: \")\n",
    "\n",
    "print(f\"\"\"\n",
    "            Student Name   : {student_name}\n",
    "            Father Name    : {father_name}\n",
    "            Date of Birth  : {date_of_birth}\n",
    "            Course Enrolled: {course}\n",
    "            Batch          : {batch_year}\n",
    "            Day            : {day}\n",
    "            Centre         : {centre} \n",
    "\"\"\")"
   ]
  }
 ],
 "metadata": {
  "kernelspec": {
   "display_name": "Python 3.8.10 64-bit",
   "language": "python",
   "name": "python3"
  },
  "language_info": {
   "codemirror_mode": {
    "name": "ipython",
    "version": 3
   },
   "file_extension": ".py",
   "mimetype": "text/x-python",
   "name": "python",
   "nbconvert_exporter": "python",
   "pygments_lexer": "ipython3",
   "version": "3.8.10"
  },
  "vscode": {
   "interpreter": {
    "hash": "916dbcbb3f70747c44a77c7bcd40155683ae19c65e1c03b4aa3499c5328201f1"
   }
  }
 },
 "nbformat": 4,
 "nbformat_minor": 5
}
